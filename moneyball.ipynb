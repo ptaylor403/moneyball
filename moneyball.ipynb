{
 "cells": [
  {
   "cell_type": "code",
   "execution_count": 597,
   "metadata": {
    "collapsed": true
   },
   "outputs": [],
   "source": [
    "import pandas as pd\n",
    "import numpy as np\n",
    "import matplotlib.pyplot as plt\n",
    "import re\n",
    "\n",
    "%matplotlib inline"
   ]
  },
  {
   "cell_type": "code",
   "execution_count": 598,
   "metadata": {
    "collapsed": false
   },
   "outputs": [
    {
     "data": {
      "text/plain": [
       "pandas.core.frame.DataFrame"
      ]
     },
     "execution_count": 598,
     "metadata": {},
     "output_type": "execute_result"
    }
   ],
   "source": [
    "batting_data = pd.read_csv('/Users/trishataylor/Documents/week4/homework/moneyball/data/Batting.csv')\n",
    "info = batting_data[['playerID', 'yearID', 'teamID','H', 'BB', 'HBP', 'AB', 'SF']].copy()\n",
    "type(info)\n"
   ]
  },
  {
   "cell_type": "code",
   "execution_count": 599,
   "metadata": {
    "collapsed": false
   },
   "outputs": [],
   "source": [
    "year_info = info[np.isfinite(info['yearID'])]"
   ]
  },
  {
   "cell_type": "code",
   "execution_count": 600,
   "metadata": {
    "collapsed": false
   },
   "outputs": [],
   "source": [
    "this_year_info = year_info[year_info.yearID == 2015]"
   ]
  },
  {
   "cell_type": "code",
   "execution_count": 601,
   "metadata": {
    "collapsed": false
   },
   "outputs": [],
   "source": [
    "top = this_year_info[['H', 'BB', 'HBP']]\n",
    "\n",
    "bottom = this_year_info[['AB', 'BB', 'HBP', 'SF']]"
   ]
  },
  {
   "cell_type": "code",
   "execution_count": null,
   "metadata": {
    "collapsed": false
   },
   "outputs": [],
   "source": []
  },
  {
   "cell_type": "code",
   "execution_count": null,
   "metadata": {
    "collapsed": false
   },
   "outputs": [],
   "source": []
  },
  {
   "cell_type": "code",
   "execution_count": 602,
   "metadata": {
    "collapsed": false
   },
   "outputs": [],
   "source": [
    "top = top.sum(axis=1)\n",
    "bottom = bottom.sum(axis=1)\n"
   ]
  },
  {
   "cell_type": "code",
   "execution_count": 603,
   "metadata": {
    "collapsed": false,
    "scrolled": false
   },
   "outputs": [
    {
     "name": "stderr",
     "output_type": "stream",
     "text": [
      "/Users/trishataylor/Documents/week4/homework/moneyball/.direnv/python-3.5.1/lib/python3.5/site-packages/ipykernel/__main__.py:1: SettingWithCopyWarning: \n",
      "A value is trying to be set on a copy of a slice from a DataFrame.\n",
      "Try using .loc[row_indexer,col_indexer] = value instead\n",
      "\n",
      "See the caveats in the documentation: http://pandas.pydata.org/pandas-docs/stable/indexing.html#indexing-view-versus-copy\n",
      "  if __name__ == '__main__':\n",
      "/Users/trishataylor/Documents/week4/homework/moneyball/.direnv/python-3.5.1/lib/python3.5/site-packages/ipykernel/__main__.py:2: SettingWithCopyWarning: \n",
      "A value is trying to be set on a copy of a slice from a DataFrame.\n",
      "Try using .loc[row_indexer,col_indexer] = value instead\n",
      "\n",
      "See the caveats in the documentation: http://pandas.pydata.org/pandas-docs/stable/indexing.html#indexing-view-versus-copy\n",
      "  from ipykernel import kernelapp as app\n"
     ]
    }
   ],
   "source": [
    "this_year_info['top_OBP'] = top\n",
    "this_year_info['bottom_OBP'] = bottom\n"
   ]
  },
  {
   "cell_type": "code",
   "execution_count": 604,
   "metadata": {
    "collapsed": false
   },
   "outputs": [],
   "source": [
    "OBP = this_year_info['top_OBP']/this_year_info['bottom_OBP']"
   ]
  },
  {
   "cell_type": "code",
   "execution_count": 605,
   "metadata": {
    "collapsed": false,
    "scrolled": false
   },
   "outputs": [
    {
     "name": "stderr",
     "output_type": "stream",
     "text": [
      "/Users/trishataylor/Documents/week4/homework/moneyball/.direnv/python-3.5.1/lib/python3.5/site-packages/ipykernel/__main__.py:1: SettingWithCopyWarning: \n",
      "A value is trying to be set on a copy of a slice from a DataFrame.\n",
      "Try using .loc[row_indexer,col_indexer] = value instead\n",
      "\n",
      "See the caveats in the documentation: http://pandas.pydata.org/pandas-docs/stable/indexing.html#indexing-view-versus-copy\n",
      "  if __name__ == '__main__':\n"
     ]
    }
   ],
   "source": [
    "this_year_info['OBP'] = OBP\n",
    "this_year_info = this_year_info[np.isfinite(this_year_info['OBP'])]\n"
   ]
  },
  {
   "cell_type": "code",
   "execution_count": 606,
   "metadata": {
    "collapsed": false
   },
   "outputs": [],
   "source": [
    "player_data = pd.read_csv('/Users/trishataylor/Documents/week4/homework/moneyball/data/Master.csv')\n",
    "player_data1 = player_data[['playerID', 'deathYear', 'nameFirst', 'nameLast']].copy()\n",
    "#player_data1"
   ]
  },
  {
   "cell_type": "code",
   "execution_count": 607,
   "metadata": {
    "collapsed": false
   },
   "outputs": [
    {
     "data": {
      "text/plain": [
       "9510"
      ]
     },
     "execution_count": 607,
     "metadata": {},
     "output_type": "execute_result"
    }
   ],
   "source": [
    "living_players = player_data1[player_data1.deathYear.isnull()]\n",
    "# living_players1 = living_players[living_players.finalGame.isnull()]\n",
    "len(living_players)"
   ]
  },
  {
   "cell_type": "code",
   "execution_count": 608,
   "metadata": {
    "collapsed": false
   },
   "outputs": [],
   "source": [
    "living_player_stats = pd.merge(living_players, this_year_info)\n"
   ]
  },
  {
   "cell_type": "code",
   "execution_count": 609,
   "metadata": {
    "collapsed": false,
    "scrolled": false
   },
   "outputs": [],
   "source": [
    "salary_data = pd.read_csv('/Users/trishataylor/Documents/week4/homework/moneyball/data/Salaries.csv')\n",
    "salary_info = salary_data[['yearID', 'teamID', 'playerID', 'salary']].copy()\n",
    "salary_this_year = salary_info[salary_info.yearID == 2015]\n"
   ]
  },
  {
   "cell_type": "code",
   "execution_count": 610,
   "metadata": {
    "collapsed": false,
    "scrolled": false
   },
   "outputs": [],
   "source": [
    "living_paid = pd.merge(living_player_stats, salary_this_year)\n"
   ]
  },
  {
   "cell_type": "code",
   "execution_count": null,
   "metadata": {
    "collapsed": true
   },
   "outputs": [],
   "source": []
  },
  {
   "cell_type": "code",
   "execution_count": null,
   "metadata": {
    "collapsed": true
   },
   "outputs": [],
   "source": []
  },
  {
   "cell_type": "code",
   "execution_count": 636,
   "metadata": {
    "collapsed": false
   },
   "outputs": [
    {
     "data": {
      "text/html": [
       "<div>\n",
       "<table border=\"1\" class=\"dataframe\">\n",
       "  <thead>\n",
       "    <tr style=\"text-align: right;\">\n",
       "      <th></th>\n",
       "      <th>playerID</th>\n",
       "      <th>deathYear</th>\n",
       "      <th>nameFirst</th>\n",
       "      <th>nameLast</th>\n",
       "      <th>yearID</th>\n",
       "      <th>teamID</th>\n",
       "      <th>H</th>\n",
       "      <th>BB</th>\n",
       "      <th>HBP</th>\n",
       "      <th>AB</th>\n",
       "      <th>SF</th>\n",
       "      <th>top_OBP</th>\n",
       "      <th>bottom_OBP</th>\n",
       "      <th>OBP</th>\n",
       "      <th>salary</th>\n",
       "    </tr>\n",
       "  </thead>\n",
       "  <tbody>\n",
       "    <tr>\n",
       "      <th>334</th>\n",
       "      <td>machama01</td>\n",
       "      <td>NaN</td>\n",
       "      <td>Manny</td>\n",
       "      <td>Machado</td>\n",
       "      <td>2015</td>\n",
       "      <td>BAL</td>\n",
       "      <td>181.0</td>\n",
       "      <td>70.0</td>\n",
       "      <td>4.0</td>\n",
       "      <td>633.0</td>\n",
       "      <td>4.0</td>\n",
       "      <td>255.0</td>\n",
       "      <td>711.0</td>\n",
       "      <td>0.358650</td>\n",
       "      <td>548000</td>\n",
       "    </tr>\n",
       "    <tr>\n",
       "      <th>50</th>\n",
       "      <td>bogaexa01</td>\n",
       "      <td>NaN</td>\n",
       "      <td>Xander</td>\n",
       "      <td>Bogaerts</td>\n",
       "      <td>2015</td>\n",
       "      <td>BOS</td>\n",
       "      <td>196.0</td>\n",
       "      <td>32.0</td>\n",
       "      <td>3.0</td>\n",
       "      <td>613.0</td>\n",
       "      <td>3.0</td>\n",
       "      <td>231.0</td>\n",
       "      <td>651.0</td>\n",
       "      <td>0.354839</td>\n",
       "      <td>543000</td>\n",
       "    </tr>\n",
       "    <tr>\n",
       "      <th>256</th>\n",
       "      <td>holtbr01</td>\n",
       "      <td>NaN</td>\n",
       "      <td>Brock</td>\n",
       "      <td>Holt</td>\n",
       "      <td>2015</td>\n",
       "      <td>BOS</td>\n",
       "      <td>127.0</td>\n",
       "      <td>46.0</td>\n",
       "      <td>3.0</td>\n",
       "      <td>454.0</td>\n",
       "      <td>2.0</td>\n",
       "      <td>176.0</td>\n",
       "      <td>505.0</td>\n",
       "      <td>0.348515</td>\n",
       "      <td>530500</td>\n",
       "    </tr>\n",
       "    <tr>\n",
       "      <th>473</th>\n",
       "      <td>robincl01</td>\n",
       "      <td>NaN</td>\n",
       "      <td>Clint</td>\n",
       "      <td>Robinson</td>\n",
       "      <td>2015</td>\n",
       "      <td>WAS</td>\n",
       "      <td>84.0</td>\n",
       "      <td>37.0</td>\n",
       "      <td>5.0</td>\n",
       "      <td>309.0</td>\n",
       "      <td>1.0</td>\n",
       "      <td>126.0</td>\n",
       "      <td>352.0</td>\n",
       "      <td>0.357955</td>\n",
       "      <td>525000</td>\n",
       "    </tr>\n",
       "    <tr>\n",
       "      <th>44</th>\n",
       "      <td>blackch02</td>\n",
       "      <td>NaN</td>\n",
       "      <td>Charlie</td>\n",
       "      <td>Blackmon</td>\n",
       "      <td>2015</td>\n",
       "      <td>COL</td>\n",
       "      <td>176.0</td>\n",
       "      <td>46.0</td>\n",
       "      <td>13.0</td>\n",
       "      <td>614.0</td>\n",
       "      <td>4.0</td>\n",
       "      <td>235.0</td>\n",
       "      <td>677.0</td>\n",
       "      <td>0.347120</td>\n",
       "      <td>517500</td>\n",
       "    </tr>\n",
       "    <tr>\n",
       "      <th>316</th>\n",
       "      <td>lemahdj01</td>\n",
       "      <td>NaN</td>\n",
       "      <td>DJ</td>\n",
       "      <td>LeMahieu</td>\n",
       "      <td>2015</td>\n",
       "      <td>COL</td>\n",
       "      <td>170.0</td>\n",
       "      <td>50.0</td>\n",
       "      <td>1.0</td>\n",
       "      <td>564.0</td>\n",
       "      <td>2.0</td>\n",
       "      <td>221.0</td>\n",
       "      <td>617.0</td>\n",
       "      <td>0.358185</td>\n",
       "      <td>517500</td>\n",
       "    </tr>\n",
       "    <tr>\n",
       "      <th>42</th>\n",
       "      <td>bettsmo01</td>\n",
       "      <td>NaN</td>\n",
       "      <td>Mookie</td>\n",
       "      <td>Betts</td>\n",
       "      <td>2015</td>\n",
       "      <td>BOS</td>\n",
       "      <td>174.0</td>\n",
       "      <td>46.0</td>\n",
       "      <td>2.0</td>\n",
       "      <td>597.0</td>\n",
       "      <td>6.0</td>\n",
       "      <td>222.0</td>\n",
       "      <td>651.0</td>\n",
       "      <td>0.341014</td>\n",
       "      <td>514500</td>\n",
       "    </tr>\n",
       "    <tr>\n",
       "      <th>267</th>\n",
       "      <td>inciaen01</td>\n",
       "      <td>NaN</td>\n",
       "      <td>Ender</td>\n",
       "      <td>Inciarte</td>\n",
       "      <td>2015</td>\n",
       "      <td>ARI</td>\n",
       "      <td>159.0</td>\n",
       "      <td>26.0</td>\n",
       "      <td>4.0</td>\n",
       "      <td>524.0</td>\n",
       "      <td>5.0</td>\n",
       "      <td>189.0</td>\n",
       "      <td>559.0</td>\n",
       "      <td>0.338104</td>\n",
       "      <td>513000</td>\n",
       "    </tr>\n",
       "    <tr>\n",
       "      <th>577</th>\n",
       "      <td>vogtst01</td>\n",
       "      <td>NaN</td>\n",
       "      <td>Stephen</td>\n",
       "      <td>Vogt</td>\n",
       "      <td>2015</td>\n",
       "      <td>OAK</td>\n",
       "      <td>116.0</td>\n",
       "      <td>56.0</td>\n",
       "      <td>2.0</td>\n",
       "      <td>445.0</td>\n",
       "      <td>8.0</td>\n",
       "      <td>174.0</td>\n",
       "      <td>511.0</td>\n",
       "      <td>0.340509</td>\n",
       "      <td>512500</td>\n",
       "    </tr>\n",
       "  </tbody>\n",
       "</table>\n",
       "</div>"
      ],
      "text/plain": [
       "      playerID  deathYear nameFirst  nameLast  yearID teamID      H    BB  \\\n",
       "334  machama01        NaN     Manny   Machado    2015    BAL  181.0  70.0   \n",
       "50   bogaexa01        NaN    Xander  Bogaerts    2015    BOS  196.0  32.0   \n",
       "256   holtbr01        NaN     Brock      Holt    2015    BOS  127.0  46.0   \n",
       "473  robincl01        NaN     Clint  Robinson    2015    WAS   84.0  37.0   \n",
       "44   blackch02        NaN   Charlie  Blackmon    2015    COL  176.0  46.0   \n",
       "316  lemahdj01        NaN        DJ  LeMahieu    2015    COL  170.0  50.0   \n",
       "42   bettsmo01        NaN    Mookie     Betts    2015    BOS  174.0  46.0   \n",
       "267  inciaen01        NaN     Ender  Inciarte    2015    ARI  159.0  26.0   \n",
       "577   vogtst01        NaN   Stephen      Vogt    2015    OAK  116.0  56.0   \n",
       "\n",
       "      HBP     AB   SF  top_OBP  bottom_OBP       OBP  salary  \n",
       "334   4.0  633.0  4.0    255.0       711.0  0.358650  548000  \n",
       "50    3.0  613.0  3.0    231.0       651.0  0.354839  543000  \n",
       "256   3.0  454.0  2.0    176.0       505.0  0.348515  530500  \n",
       "473   5.0  309.0  1.0    126.0       352.0  0.357955  525000  \n",
       "44   13.0  614.0  4.0    235.0       677.0  0.347120  517500  \n",
       "316   1.0  564.0  2.0    221.0       617.0  0.358185  517500  \n",
       "42    2.0  597.0  6.0    222.0       651.0  0.341014  514500  \n",
       "267   4.0  524.0  5.0    189.0       559.0  0.338104  513000  \n",
       "577   2.0  445.0  8.0    174.0       511.0  0.340509  512500  "
      ]
     },
     "execution_count": 636,
     "metadata": {},
     "output_type": "execute_result"
    }
   ],
   "source": [
    "living_paid = living_paid[living_paid['H']>81]\n",
    "living_paid = living_paid[living_paid['BB']>25]\n",
    "living_paid = living_paid[living_paid['AB']>302]\n",
    "living_paid = living_paid[living_paid['salary']>510000]\n",
    "living_paid = living_paid[living_paid['salary']<550000]\n",
    "living_paid = living_paid[living_paid['OBP']>0.33]\n",
    "sorted_players = living_paid.sort_values('salary', ascending=False)\n",
    "sorted_players"
   ]
  },
  {
   "cell_type": "code",
   "execution_count": 637,
   "metadata": {
    "collapsed": false
   },
   "outputs": [
    {
     "data": {
      "text/plain": [
       "9"
      ]
     },
     "execution_count": 637,
     "metadata": {},
     "output_type": "execute_result"
    }
   ],
   "source": [
    "len(sorted_players)"
   ]
  },
  {
   "cell_type": "code",
   "execution_count": 638,
   "metadata": {
    "collapsed": false
   },
   "outputs": [],
   "source": [
    "player_ids = sorted_players['playerID']"
   ]
  },
  {
   "cell_type": "code",
   "execution_count": 639,
   "metadata": {
    "collapsed": false
   },
   "outputs": [],
   "source": [
    "fielding = pd.read_csv('/Users/trishataylor/Documents/week4/homework/moneyball/data/Fielding.csv')\n",
    "player_pos = fielding[['playerID', 'yearID', 'POS']].copy()\n",
    "player_pos = player_pos[player_pos.yearID == 2015]"
   ]
  },
  {
   "cell_type": "code",
   "execution_count": 640,
   "metadata": {
    "collapsed": false
   },
   "outputs": [
    {
     "data": {
      "text/html": [
       "<div>\n",
       "<table border=\"1\" class=\"dataframe\">\n",
       "  <thead>\n",
       "    <tr style=\"text-align: right;\">\n",
       "      <th></th>\n",
       "      <th>playerID</th>\n",
       "      <th>yearID</th>\n",
       "      <th>POS</th>\n",
       "    </tr>\n",
       "  </thead>\n",
       "  <tbody>\n",
       "    <tr>\n",
       "      <th>168567</th>\n",
       "      <td>robincl01</td>\n",
       "      <td>2015</td>\n",
       "      <td>P</td>\n",
       "    </tr>\n",
       "    <tr>\n",
       "      <th>168858</th>\n",
       "      <td>vogtst01</td>\n",
       "      <td>2015</td>\n",
       "      <td>C</td>\n",
       "    </tr>\n",
       "    <tr>\n",
       "      <th>168938</th>\n",
       "      <td>holtbr01</td>\n",
       "      <td>2015</td>\n",
       "      <td>1B</td>\n",
       "    </tr>\n",
       "    <tr>\n",
       "      <th>169015</th>\n",
       "      <td>robincl01</td>\n",
       "      <td>2015</td>\n",
       "      <td>1B</td>\n",
       "    </tr>\n",
       "    <tr>\n",
       "      <th>169052</th>\n",
       "      <td>vogtst01</td>\n",
       "      <td>2015</td>\n",
       "      <td>1B</td>\n",
       "    </tr>\n",
       "    <tr>\n",
       "      <th>169132</th>\n",
       "      <td>holtbr01</td>\n",
       "      <td>2015</td>\n",
       "      <td>2B</td>\n",
       "    </tr>\n",
       "    <tr>\n",
       "      <th>169149</th>\n",
       "      <td>lemahdj01</td>\n",
       "      <td>2015</td>\n",
       "      <td>2B</td>\n",
       "    </tr>\n",
       "    <tr>\n",
       "      <th>169299</th>\n",
       "      <td>holtbr01</td>\n",
       "      <td>2015</td>\n",
       "      <td>3B</td>\n",
       "    </tr>\n",
       "    <tr>\n",
       "      <th>169318</th>\n",
       "      <td>machama01</td>\n",
       "      <td>2015</td>\n",
       "      <td>3B</td>\n",
       "    </tr>\n",
       "    <tr>\n",
       "      <th>169415</th>\n",
       "      <td>bogaexa01</td>\n",
       "      <td>2015</td>\n",
       "      <td>SS</td>\n",
       "    </tr>\n",
       "    <tr>\n",
       "      <th>169459</th>\n",
       "      <td>holtbr01</td>\n",
       "      <td>2015</td>\n",
       "      <td>SS</td>\n",
       "    </tr>\n",
       "    <tr>\n",
       "      <th>169470</th>\n",
       "      <td>machama01</td>\n",
       "      <td>2015</td>\n",
       "      <td>SS</td>\n",
       "    </tr>\n",
       "    <tr>\n",
       "      <th>169536</th>\n",
       "      <td>blackch02</td>\n",
       "      <td>2015</td>\n",
       "      <td>LF</td>\n",
       "    </tr>\n",
       "    <tr>\n",
       "      <th>169631</th>\n",
       "      <td>holtbr01</td>\n",
       "      <td>2015</td>\n",
       "      <td>LF</td>\n",
       "    </tr>\n",
       "    <tr>\n",
       "      <th>169633</th>\n",
       "      <td>inciaen01</td>\n",
       "      <td>2015</td>\n",
       "      <td>LF</td>\n",
       "    </tr>\n",
       "    <tr>\n",
       "      <th>169717</th>\n",
       "      <td>robincl01</td>\n",
       "      <td>2015</td>\n",
       "      <td>LF</td>\n",
       "    </tr>\n",
       "    <tr>\n",
       "      <th>169795</th>\n",
       "      <td>bettsmo01</td>\n",
       "      <td>2015</td>\n",
       "      <td>CF</td>\n",
       "    </tr>\n",
       "    <tr>\n",
       "      <th>169796</th>\n",
       "      <td>blackch02</td>\n",
       "      <td>2015</td>\n",
       "      <td>CF</td>\n",
       "    </tr>\n",
       "    <tr>\n",
       "      <th>169852</th>\n",
       "      <td>holtbr01</td>\n",
       "      <td>2015</td>\n",
       "      <td>CF</td>\n",
       "    </tr>\n",
       "    <tr>\n",
       "      <th>169855</th>\n",
       "      <td>inciaen01</td>\n",
       "      <td>2015</td>\n",
       "      <td>CF</td>\n",
       "    </tr>\n",
       "    <tr>\n",
       "      <th>169958</th>\n",
       "      <td>bettsmo01</td>\n",
       "      <td>2015</td>\n",
       "      <td>RF</td>\n",
       "    </tr>\n",
       "    <tr>\n",
       "      <th>169959</th>\n",
       "      <td>blackch02</td>\n",
       "      <td>2015</td>\n",
       "      <td>RF</td>\n",
       "    </tr>\n",
       "    <tr>\n",
       "      <th>170037</th>\n",
       "      <td>holtbr01</td>\n",
       "      <td>2015</td>\n",
       "      <td>RF</td>\n",
       "    </tr>\n",
       "    <tr>\n",
       "      <th>170041</th>\n",
       "      <td>inciaen01</td>\n",
       "      <td>2015</td>\n",
       "      <td>RF</td>\n",
       "    </tr>\n",
       "    <tr>\n",
       "      <th>170116</th>\n",
       "      <td>robincl01</td>\n",
       "      <td>2015</td>\n",
       "      <td>RF</td>\n",
       "    </tr>\n",
       "    <tr>\n",
       "      <th>170197</th>\n",
       "      <td>bettsmo01</td>\n",
       "      <td>2015</td>\n",
       "      <td>OF</td>\n",
       "    </tr>\n",
       "    <tr>\n",
       "      <th>170198</th>\n",
       "      <td>blackch02</td>\n",
       "      <td>2015</td>\n",
       "      <td>OF</td>\n",
       "    </tr>\n",
       "    <tr>\n",
       "      <th>170327</th>\n",
       "      <td>holtbr01</td>\n",
       "      <td>2015</td>\n",
       "      <td>OF</td>\n",
       "    </tr>\n",
       "    <tr>\n",
       "      <th>170332</th>\n",
       "      <td>inciaen01</td>\n",
       "      <td>2015</td>\n",
       "      <td>OF</td>\n",
       "    </tr>\n",
       "    <tr>\n",
       "      <th>170442</th>\n",
       "      <td>robincl01</td>\n",
       "      <td>2015</td>\n",
       "      <td>OF</td>\n",
       "    </tr>\n",
       "  </tbody>\n",
       "</table>\n",
       "</div>"
      ],
      "text/plain": [
       "         playerID  yearID POS\n",
       "168567  robincl01    2015   P\n",
       "168858   vogtst01    2015   C\n",
       "168938   holtbr01    2015  1B\n",
       "169015  robincl01    2015  1B\n",
       "169052   vogtst01    2015  1B\n",
       "169132   holtbr01    2015  2B\n",
       "169149  lemahdj01    2015  2B\n",
       "169299   holtbr01    2015  3B\n",
       "169318  machama01    2015  3B\n",
       "169415  bogaexa01    2015  SS\n",
       "169459   holtbr01    2015  SS\n",
       "169470  machama01    2015  SS\n",
       "169536  blackch02    2015  LF\n",
       "169631   holtbr01    2015  LF\n",
       "169633  inciaen01    2015  LF\n",
       "169717  robincl01    2015  LF\n",
       "169795  bettsmo01    2015  CF\n",
       "169796  blackch02    2015  CF\n",
       "169852   holtbr01    2015  CF\n",
       "169855  inciaen01    2015  CF\n",
       "169958  bettsmo01    2015  RF\n",
       "169959  blackch02    2015  RF\n",
       "170037   holtbr01    2015  RF\n",
       "170041  inciaen01    2015  RF\n",
       "170116  robincl01    2015  RF\n",
       "170197  bettsmo01    2015  OF\n",
       "170198  blackch02    2015  OF\n",
       "170327   holtbr01    2015  OF\n",
       "170332  inciaen01    2015  OF\n",
       "170442  robincl01    2015  OF"
      ]
     },
     "execution_count": 640,
     "metadata": {},
     "output_type": "execute_result"
    }
   ],
   "source": [
    "this_year_pos = player_pos[player_pos['playerID'].isin(player_ids)]\n",
    "this_year_pos"
   ]
  },
  {
   "cell_type": "markdown",
   "metadata": {},
   "source": [
    "After review, my optimal team from 2015 is:\n",
    "\n",
    "Pitcher: Clint Robin from the Washington Nationals\n",
    "\n",
    "Catcher: Stephen Vogt from the Oakland Athletics\n",
    "\n",
    "1st Base: Brock Holt from the Boston Red Sox\n",
    "\n",
    "2nd Base: DJ LeMahieu from the Colorado Rockies\n",
    "\n",
    "3rd Base: Manny Machado from the Baltimore Orioles\n",
    "\n",
    "Short Stop: Xander Bogaerts from the Boston Red Sox\n",
    "\n",
    "Left Field: Ender Inciarte from the Arizona Diamondbacks\n",
    "\n",
    "Center Field: Mookie Betts from the Boston Red Sox\n",
    "\n",
    "Right Field: Charlie Blackmon from the Colorado Rockies\n"
   ]
  },
  {
   "cell_type": "code",
   "execution_count": null,
   "metadata": {
    "collapsed": true
   },
   "outputs": [],
   "source": []
  }
 ],
 "metadata": {
  "kernelspec": {
   "display_name": "Python 3",
   "language": "python",
   "name": "python3"
  },
  "language_info": {
   "codemirror_mode": {
    "name": "ipython",
    "version": 3
   },
   "file_extension": ".py",
   "mimetype": "text/x-python",
   "name": "python",
   "nbconvert_exporter": "python",
   "pygments_lexer": "ipython3",
   "version": "3.5.1"
  }
 },
 "nbformat": 4,
 "nbformat_minor": 0
}
